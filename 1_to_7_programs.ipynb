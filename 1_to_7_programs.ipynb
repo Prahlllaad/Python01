#1 Display float number with 2 decimal places using print()
i = 15.96513
print('%.2f'%i)
15.97
#2 Takes two integer numbers and  return their product.
x = int(input("Enter 1st no. :"))
y = int(input("Enter 2nd no. :"))
print(x*y)
Enter 1st no. :10
Enter 2nd no. :20
200
#3 Write a Python program to get the volume of a sphere with radius 10.
pi = 3.1415926535897931
r = int(input())
v = 4.0/3.0*pi*r**3
print('Volume of sphere is: %.4f'%v)
10
Volume of sphere is: 4188.7902
#4 Accept two numbers from the user and multiply them together.
x,y = map(int, input().split())
print(x*y)
2 10
20
#5 Write a Python program that accepts an integer (a) and computes the value of a+aa+aaa.
a = input()
aa = a+a
aaa = a+a+a
print(int(a)+int(aa)+int(aaa))
10
102030
#6 Write a Python program to calculate the length of a string
n = 'Prakhar'
print(len(n))
7
#7 Write a Python program to parse a string to Float & Integer
x = '1234'
print(int(x))
print(float(x))
1234
1234.0